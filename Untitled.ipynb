{
 "cells": [
  {
   "cell_type": "code",
   "execution_count": 3,
   "metadata": {},
   "outputs": [],
   "source": [
    "%matplotlib inline\n",
    "import numpy as np\n",
    "import gwpy\n",
    "from gwpy.timeseries import TimeSeries\n",
    "from lal import gpstime\n",
    "import matplotlib.pyplot as plt\n",
    "import matplotlib.mlab as mlab\n",
    "from scipy import signal\n",
    "from scipy.interpolate import interp1d\n",
    "import h5py\n",
    "from pycbc.waveform import td_approximants, fd_approximants, get_td_waveform\n",
    "import nds2\n",
    "from astropy.units import Quantity"
   ]
  },
  {
   "cell_type": "code",
   "execution_count": 4,
   "metadata": {},
   "outputs": [
    {
     "name": "stdout",
     "output_type": "stream",
     "text": [
      "Opening new connection to nds.ligo.caltech.edu... "
     ]
    },
    {
     "name": "stderr",
     "output_type": "stream",
     "text": [
      "/Users/andreguimaraes/opt/anaconda3/lib/python3.7/site-packages/gwpy/io/nds2.py:294: NDSWarning: Error authenticating against nds.ligo.caltech.edu:31200\n",
      "  NDSWarning)\n"
     ]
    },
    {
     "name": "stdin",
     "output_type": "stream",
     "text": [
      "Please provide username for the LIGO.ORG kerberos realm:  andre.guimaraes\n",
      "Password for andre.guimaraes@LIGO.ORG:  ···············\n"
     ]
    },
    {
     "ename": "CalledProcessError",
     "evalue": "Command '/Users/andreguimaraes/opt/anaconda3/bin/kinit andre.guimaraes@LIGO.ORG' returned non-zero exit status 1.",
     "output_type": "error",
     "traceback": [
      "\u001b[0;31m---------------------------------------------------------------------------\u001b[0m",
      "\u001b[0;31mCalledProcessError\u001b[0m                        Traceback (most recent call last)",
      "\u001b[0;32m<ipython-input-4-f10906b443ab>\u001b[0m in \u001b[0;36m<module>\u001b[0;34m\u001b[0m\n\u001b[1;32m      3\u001b[0m \u001b[0mtime_end\u001b[0m  \u001b[0;34m=\u001b[0m \u001b[0;36m1265202096.991118\u001b[0m \u001b[0;34m+\u001b[0m \u001b[0;36m10000\u001b[0m\u001b[0;34m\u001b[0m\u001b[0;34m\u001b[0m\u001b[0m\n\u001b[1;32m      4\u001b[0m \u001b[0;31m#data_L1 = TimeSeries.fetch_open_data('L1', time_start, time_end)\u001b[0m\u001b[0;34m\u001b[0m\u001b[0;34m\u001b[0m\u001b[0;34m\u001b[0m\u001b[0m\n\u001b[0;32m----> 5\u001b[0;31m \u001b[0mdata_L1\u001b[0m \u001b[0;34m=\u001b[0m \u001b[0mTimeSeries\u001b[0m\u001b[0;34m.\u001b[0m\u001b[0mget\u001b[0m\u001b[0;34m(\u001b[0m\u001b[0;34m'L1:GDS-CALIB_STRAIN'\u001b[0m\u001b[0;34m,\u001b[0m \u001b[0mtime_start\u001b[0m\u001b[0;34m,\u001b[0m \u001b[0mtime_end\u001b[0m\u001b[0;34m,\u001b[0m \u001b[0mverbose\u001b[0m \u001b[0;34m=\u001b[0m \u001b[0;32mTrue\u001b[0m\u001b[0;34m)\u001b[0m\u001b[0;34m\u001b[0m\u001b[0;34m\u001b[0m\u001b[0m\n\u001b[0m\u001b[1;32m      6\u001b[0m \u001b[0mdata_fig\u001b[0m\u001b[0;34m,\u001b[0m \u001b[0mdata_ax\u001b[0m \u001b[0;34m=\u001b[0m \u001b[0mplt\u001b[0m\u001b[0;34m.\u001b[0m\u001b[0msubplots\u001b[0m\u001b[0;34m(\u001b[0m\u001b[0mfigsize\u001b[0m \u001b[0;34m=\u001b[0m \u001b[0;34m[\u001b[0m\u001b[0;36m15\u001b[0m\u001b[0;34m,\u001b[0m\u001b[0;36m10\u001b[0m\u001b[0;34m]\u001b[0m\u001b[0;34m)\u001b[0m\u001b[0;34m\u001b[0m\u001b[0;34m\u001b[0m\u001b[0m\n\u001b[1;32m      7\u001b[0m \u001b[0mdata_ax\u001b[0m\u001b[0;34m.\u001b[0m\u001b[0mplot\u001b[0m\u001b[0;34m(\u001b[0m\u001b[0mdata_L1\u001b[0m\u001b[0;34m)\u001b[0m\u001b[0;34m\u001b[0m\u001b[0;34m\u001b[0m\u001b[0m\n",
      "\u001b[0;32m~/opt/anaconda3/lib/python3.7/site-packages/gwpy/timeseries/core.py\u001b[0m in \u001b[0;36mget\u001b[0;34m(cls, channel, start, end, pad, scaled, dtype, verbose, allow_tape, **kwargs)\u001b[0m\n\u001b[1;32m    617\u001b[0m         return cls.DictClass.get(\n\u001b[1;32m    618\u001b[0m             \u001b[0;34m[\u001b[0m\u001b[0mchannel\u001b[0m\u001b[0;34m]\u001b[0m\u001b[0;34m,\u001b[0m \u001b[0mstart\u001b[0m\u001b[0;34m,\u001b[0m \u001b[0mend\u001b[0m\u001b[0;34m,\u001b[0m \u001b[0mpad\u001b[0m\u001b[0;34m=\u001b[0m\u001b[0mpad\u001b[0m\u001b[0;34m,\u001b[0m \u001b[0mscaled\u001b[0m\u001b[0;34m=\u001b[0m\u001b[0mscaled\u001b[0m\u001b[0;34m,\u001b[0m \u001b[0mdtype\u001b[0m\u001b[0;34m=\u001b[0m\u001b[0mdtype\u001b[0m\u001b[0;34m,\u001b[0m\u001b[0;34m\u001b[0m\u001b[0;34m\u001b[0m\u001b[0m\n\u001b[0;32m--> 619\u001b[0;31m             verbose=verbose, allow_tape=allow_tape, **kwargs)[str(channel)]\n\u001b[0m\u001b[1;32m    620\u001b[0m \u001b[0;34m\u001b[0m\u001b[0m\n\u001b[1;32m    621\u001b[0m     \u001b[0;31m# -- utilities ------------------------------\u001b[0m\u001b[0;34m\u001b[0m\u001b[0;34m\u001b[0m\u001b[0;34m\u001b[0m\u001b[0m\n",
      "\u001b[0;32m~/opt/anaconda3/lib/python3.7/site-packages/gwpy/timeseries/core.py\u001b[0m in \u001b[0;36mget\u001b[0;34m(cls, channels, start, end, pad, scaled, dtype, verbose, allow_tape, **kwargs)\u001b[0m\n\u001b[1;32m   1392\u001b[0m             return cls.fetch(channels, start, end, pad=pad, scaled=scaled,\n\u001b[1;32m   1393\u001b[0m                              \u001b[0mdtype\u001b[0m\u001b[0;34m=\u001b[0m\u001b[0mdtype\u001b[0m\u001b[0;34m,\u001b[0m \u001b[0mallow_tape\u001b[0m\u001b[0;34m=\u001b[0m\u001b[0mallow_tape\u001b[0m\u001b[0;34m,\u001b[0m\u001b[0;34m\u001b[0m\u001b[0;34m\u001b[0m\u001b[0m\n\u001b[0;32m-> 1394\u001b[0;31m                              verbose=verbose, **kwargs)\n\u001b[0m\u001b[1;32m   1395\u001b[0m         \u001b[0;32mexcept\u001b[0m \u001b[0mRuntimeError\u001b[0m \u001b[0;32mas\u001b[0m \u001b[0mexc\u001b[0m\u001b[0;34m:\u001b[0m\u001b[0;34m\u001b[0m\u001b[0;34m\u001b[0m\u001b[0m\n\u001b[1;32m   1396\u001b[0m             \u001b[0;31m# if all else fails, try and get each channel individually\u001b[0m\u001b[0;34m\u001b[0m\u001b[0;34m\u001b[0m\u001b[0;34m\u001b[0m\u001b[0m\n",
      "\u001b[0;32m~/opt/anaconda3/lib/python3.7/site-packages/gwpy/timeseries/core.py\u001b[0m in \u001b[0;36mfetch\u001b[0;34m(cls, channels, start, end, host, port, verify, verbose, connection, pad, scaled, allow_tape, type, dtype)\u001b[0m\n\u001b[1;32m   1144\u001b[0m                                          \u001b[0mport\u001b[0m\u001b[0;34m=\u001b[0m\u001b[0mport_\u001b[0m\u001b[0;34m,\u001b[0m \u001b[0mverbose\u001b[0m\u001b[0;34m=\u001b[0m\u001b[0mverbose\u001b[0m\u001b[0;34m,\u001b[0m\u001b[0;34m\u001b[0m\u001b[0;34m\u001b[0m\u001b[0m\n\u001b[1;32m   1145\u001b[0m                                          \u001b[0mtype\u001b[0m\u001b[0;34m=\u001b[0m\u001b[0mtype\u001b[0m\u001b[0;34m,\u001b[0m \u001b[0mdtype\u001b[0m\u001b[0;34m=\u001b[0m\u001b[0mdtype\u001b[0m\u001b[0;34m,\u001b[0m \u001b[0mpad\u001b[0m\u001b[0;34m=\u001b[0m\u001b[0mpad\u001b[0m\u001b[0;34m,\u001b[0m\u001b[0;34m\u001b[0m\u001b[0;34m\u001b[0m\u001b[0m\n\u001b[0;32m-> 1146\u001b[0;31m                                          scaled=scaled, allow_tape=allow_tape_)\n\u001b[0m\u001b[1;32m   1147\u001b[0m                     \u001b[0;32mexcept\u001b[0m \u001b[0;34m(\u001b[0m\u001b[0mRuntimeError\u001b[0m\u001b[0;34m,\u001b[0m \u001b[0mValueError\u001b[0m\u001b[0;34m)\u001b[0m \u001b[0;32mas\u001b[0m \u001b[0mexc\u001b[0m\u001b[0;34m:\u001b[0m\u001b[0;34m\u001b[0m\u001b[0;34m\u001b[0m\u001b[0m\n\u001b[1;32m   1148\u001b[0m                         \u001b[0merror\u001b[0m \u001b[0;34m=\u001b[0m \u001b[0mstr\u001b[0m\u001b[0;34m(\u001b[0m\u001b[0mexc\u001b[0m\u001b[0;34m)\u001b[0m  \u001b[0;31m# need to assign to take out of scope\u001b[0m\u001b[0;34m\u001b[0m\u001b[0;34m\u001b[0m\u001b[0m\n",
      "\u001b[0;32m~/opt/anaconda3/lib/python3.7/site-packages/gwpy/timeseries/core.py\u001b[0m in \u001b[0;36mfetch\u001b[0;34m(cls, channels, start, end, host, port, verify, verbose, connection, pad, scaled, allow_tape, type, dtype)\u001b[0m\n\u001b[1;32m   1123\u001b[0m             print_verbose(\"Opening new connection to {0}...\".format(host),\n\u001b[1;32m   1124\u001b[0m                           end=' ', verbose=verbose)\n\u001b[0;32m-> 1125\u001b[0;31m             \u001b[0mconnection\u001b[0m \u001b[0;34m=\u001b[0m \u001b[0mio_nds2\u001b[0m\u001b[0;34m.\u001b[0m\u001b[0mauth_connect\u001b[0m\u001b[0;34m(\u001b[0m\u001b[0mhost\u001b[0m\u001b[0;34m,\u001b[0m \u001b[0mport\u001b[0m\u001b[0;34m)\u001b[0m\u001b[0;34m\u001b[0m\u001b[0;34m\u001b[0m\u001b[0m\n\u001b[0m\u001b[1;32m   1126\u001b[0m             \u001b[0mprint_verbose\u001b[0m\u001b[0;34m(\u001b[0m\u001b[0;34m'connected'\u001b[0m\u001b[0;34m,\u001b[0m \u001b[0mverbose\u001b[0m\u001b[0;34m=\u001b[0m\u001b[0mverbose\u001b[0m\u001b[0;34m)\u001b[0m\u001b[0;34m\u001b[0m\u001b[0;34m\u001b[0m\u001b[0m\n\u001b[1;32m   1127\u001b[0m         \u001b[0;31m# otherwise cycle through connections in logical order\u001b[0m\u001b[0;34m\u001b[0m\u001b[0;34m\u001b[0m\u001b[0;34m\u001b[0m\u001b[0m\n",
      "\u001b[0;32m~/opt/anaconda3/lib/python3.7/site-packages/gwpy/io/nds2.py\u001b[0m in \u001b[0;36mauth_connect\u001b[0;34m(host, port)\u001b[0m\n\u001b[1;32m    293\u001b[0m     warnings.warn('Error authenticating against {0}:{1}'.format(host, port),\n\u001b[1;32m    294\u001b[0m                   NDSWarning)\n\u001b[0;32m--> 295\u001b[0;31m     \u001b[0mkinit\u001b[0m\u001b[0;34m(\u001b[0m\u001b[0;34m)\u001b[0m\u001b[0;34m\u001b[0m\u001b[0;34m\u001b[0m\u001b[0m\n\u001b[0m\u001b[1;32m    296\u001b[0m     \u001b[0;32mreturn\u001b[0m \u001b[0mconnect\u001b[0m\u001b[0;34m(\u001b[0m\u001b[0mhost\u001b[0m\u001b[0;34m,\u001b[0m \u001b[0mport\u001b[0m\u001b[0;34m)\u001b[0m\u001b[0;34m\u001b[0m\u001b[0;34m\u001b[0m\u001b[0m\n\u001b[1;32m    297\u001b[0m \u001b[0;34m\u001b[0m\u001b[0m\n",
      "\u001b[0;32m~/opt/anaconda3/lib/python3.7/site-packages/gwpy/io/kerberos.py\u001b[0m in \u001b[0;36mkinit\u001b[0;34m(username, password, realm, exe, keytab, krb5ccname, verbose)\u001b[0m\n\u001b[1;32m    171\u001b[0m     \u001b[0mretcode\u001b[0m \u001b[0;34m=\u001b[0m \u001b[0mkget\u001b[0m\u001b[0;34m.\u001b[0m\u001b[0mpoll\u001b[0m\u001b[0;34m(\u001b[0m\u001b[0;34m)\u001b[0m\u001b[0;34m\u001b[0m\u001b[0;34m\u001b[0m\u001b[0m\n\u001b[1;32m    172\u001b[0m     \u001b[0;32mif\u001b[0m \u001b[0mretcode\u001b[0m\u001b[0;34m:\u001b[0m\u001b[0;34m\u001b[0m\u001b[0;34m\u001b[0m\u001b[0m\n\u001b[0;32m--> 173\u001b[0;31m         \u001b[0;32mraise\u001b[0m \u001b[0msubprocess\u001b[0m\u001b[0;34m.\u001b[0m\u001b[0mCalledProcessError\u001b[0m\u001b[0;34m(\u001b[0m\u001b[0mkget\u001b[0m\u001b[0;34m.\u001b[0m\u001b[0mreturncode\u001b[0m\u001b[0;34m,\u001b[0m \u001b[0;34m' '\u001b[0m\u001b[0;34m.\u001b[0m\u001b[0mjoin\u001b[0m\u001b[0;34m(\u001b[0m\u001b[0mcmd\u001b[0m\u001b[0;34m)\u001b[0m\u001b[0;34m)\u001b[0m\u001b[0;34m\u001b[0m\u001b[0;34m\u001b[0m\u001b[0m\n\u001b[0m\u001b[1;32m    174\u001b[0m     \u001b[0;32mif\u001b[0m \u001b[0mverbose\u001b[0m\u001b[0;34m:\u001b[0m\u001b[0;34m\u001b[0m\u001b[0;34m\u001b[0m\u001b[0m\n\u001b[1;32m    175\u001b[0m         \u001b[0mprint\u001b[0m\u001b[0;34m(\u001b[0m\u001b[0;34m\"Kerberos ticket generated for {}\"\u001b[0m\u001b[0;34m.\u001b[0m\u001b[0mformat\u001b[0m\u001b[0;34m(\u001b[0m\u001b[0midentity\u001b[0m\u001b[0;34m)\u001b[0m\u001b[0;34m)\u001b[0m\u001b[0;34m\u001b[0m\u001b[0;34m\u001b[0m\u001b[0m\n",
      "\u001b[0;31mCalledProcessError\u001b[0m: Command '/Users/andreguimaraes/opt/anaconda3/bin/kinit andre.guimaraes@LIGO.ORG' returned non-zero exit status 1."
     ]
    }
   ],
   "source": [
    "#Importing data form detector in between times\n",
    "time_start = 1265202094.944824 - 10000\n",
    "time_end  = 1265202096.991118 + 10000\n",
    "#data_L1 = TimeSeries.fetch_open_data('L1', time_start, time_end)\n",
    "data_L1 = TimeSeries.get('L1:GDS-CALIB_STRAIN', time_start, time_end, verbose = True)\n",
    "data_fig, data_ax = plt.subplots(figsize = [15,10])\n",
    "data_ax.plot(data_L1)\n",
    "data_ax.axis([time_start,time_end,-3e-18,3e-18])\n",
    "data_ax.plot([1265202095.991118,1265202095.991118],[-2e-18,2e-18], color = 'red')\n",
    "data_fig.show()"
   ]
  },
  {
   "cell_type": "markdown",
   "metadata": {},
   "source": [
    "## Computing asd and psd"
   ]
  },
  {
   "cell_type": "code",
   "execution_count": null,
   "metadata": {},
   "outputs": [],
   "source": [
    "data_L1_asd = data_L1.asd(fftlength = 4, overlap = 2, window = 'hanning')\n",
    "data_L1_psd = data_L1.psd(fftlength = 4, overlap = 2, window = 'hanning')\n",
    "fig, ax = plt.subplots(2, figsize = [15,10])\n",
    "ax[0].loglog(data_L1_asd)\n",
    "ax[0].axis([1e1,1e3,1e-24,1e-19])\n",
    "ax[0].set_title(\"ASD\")\n",
    "ax[0].set_xlabel(\"Frequency (Hz)\")\n",
    "ax[0].set_ylabel(\"ASD\")\n",
    "\n",
    "ax[1].loglog(data_L1_psd)\n",
    "ax[1].axis([1e1,1e3,1e-48,1e-38])\n",
    "ax[1].set_title(\"PSD\")\n",
    "ax[1].set_xlabel(\"Frequency (Hz)\")\n",
    "ax[1].set_ylabel(\"PSD\")\n"
   ]
  },
  {
   "cell_type": "markdown",
   "metadata": {},
   "source": [
    "## Creating waveform templat for comparison\n",
    "(https://pycbc.org/pycbc/latest/html/waveform.html)"
   ]
  },
  {
   "cell_type": "markdown",
   "metadata": {},
   "source": [
    "### Options for approximants:\n",
    "'EccentricFD', 'TaylorF2', 'TaylorF2Ecc', 'TaylorF2NLTides', 'TaylorF2RedSpin', 'TaylorF2RedSpinTidal', 'SpinTaylorF2', 'EOBNRv2_ROM', 'EOBNRv2HM_ROM', 'SEOBNRv1_ROM_EffectiveSpin', 'SEOBNRv1_ROM_DoubleSpin', 'SEOBNRv2_ROM_EffectiveSpin', 'SEOBNRv2_ROM_DoubleSpin', 'SEOBNRv2_ROM_DoubleSpin_HI', 'Lackey_Tidal_2013_SEOBNRv2_ROM', 'SEOBNRv4_ROM', 'SEOBNRv4HM_ROM', 'SEOBNRv4_ROM_NRTidal', 'SEOBNRv4_ROM_NRTidalv2', 'SEOBNRv4_ROM_NRTidalv2_NSBH', 'SEOBNRv4T_surrogate', 'IMRPhenomA', 'IMRPhenomB', 'IMRPhenomC', 'IMRPhenomD', 'IMRPhenomD_NRTidal', 'IMRPhenomD_NRTidalv2', 'IMRPhenomNSBH', 'IMRPhenomHM', 'IMRPhenomP', 'IMRPhenomPv2', 'IMRPhenomPv2_NRTidal', 'IMRPhenomPv2_NRTidalv2', 'SpinTaylorT4Fourier', 'SpinTaylorT5Fourier', 'NRSur4d2s', 'IMRPhenomXAS', 'IMRPhenomXHM', 'IMRPhenomPv3', 'IMRPhenomPv3HM', 'IMRPhenomXP', 'IMRPhenomXPHM', 'SpinTaylorF2_SWAPPER', 'TaylorF2NL', 'PreTaylorF2', 'TaylorF2_INTERP', 'SEOBNRv1_ROM_EffectiveSpin_INTERP', 'SEOBNRv1_ROM_DoubleSpin_INTERP', 'SEOBNRv2_ROM_EffectiveSpin_INTERP', 'SEOBNRv2_ROM_DoubleSpin_INTERP', 'EOBNRv2_ROM_INTERP', 'EOBNRv2HM_ROM_INTERP', 'SEOBNRv2_ROM_DoubleSpin_HI_INTERP', 'SEOBNRv4_ROM_INTERP', 'SEOBNRv4', 'IMRPhenomC_INTERP', 'IMRPhenomD_INTERP', 'IMRPhenomPv2_INTERP', 'IMRPhenomD_NRTidal_INTERP', 'IMRPhenomPv2_NRTidal_INTERP', 'IMRPhenomHM_INTERP', 'IMRPhenomPv3HM_INTERP', 'IMRPhenomXHM_INTERP', 'IMRPhenomXPHM_INTERP', 'SpinTaylorF2_INTERP', 'TaylorF2NL_INTERP', 'PreTaylorF2_INTERP', 'SpinTaylorF2_SWAPPER_INTERP'"
   ]
  },
  {
   "cell_type": "code",
   "execution_count": null,
   "metadata": {},
   "outputs": [],
   "source": [
    "# Which of the approximants above are to be used on the template\n",
    "approximant = 'TaylorF2'\n",
    "#Mass of initial BH's (in solar masses)\n",
    "mass1 = 47.641058\n",
    "mass2 = 39.173864\n",
    "spin1x, spin1y, spin1z = [0,0,-0.798458]\n",
    "spin2x, spin2y, spin2z = [0,0,0.426868]\n",
    "inclination = 0\n",
    "delta_t = data_L1.dt.value\n",
    "f_lower = 40\n",
    "template_p, template_c = get_td_waveform(approximant = approximant,\n",
    "                         mass1 = mass1,\n",
    "                         mass2 = mass2,\n",
    "                         spin1x = spin1x, spin1y = spin1y, spin1z = spin1z,\n",
    "                         spin2x = spin2x, spin2y = spin2y, spin2z = spin2z,\n",
    "                         inclination = inclination,\n",
    "                         delta_t = delta_t,\n",
    "                         f_lower = f_lower)\n",
    "\n",
    "template_p = TimeSeries(template_p, times = template_p.sample_times)\n",
    "\n",
    "template_c = TimeSeries(template_c, times = template_c.sample_times)\n",
    "\n",
    "if len(template_p)*data_L1.dt < Quantity(1,'s'):\n",
    "    missingSeconds = Quantity(1,'s') - len(template_p)*data_L1.dt\n",
    "    missingDataPoints = int(missingSeconds.value*data_L1.sample_rate.value)\n",
    "    appendedZeros = np.zeros(missingDataPoints)\n",
    "    appendedTimes = [template_p.times[-1] + i*data_L1.dt for i in range(1, missingDataPoints+1)]\n",
    "    appendix = TimeSeries(appendedZeros, times = appendedTimes)\n",
    "    template_p = template_p.append(appendix, inplace = False, resize = True)\n",
    "    template_c = template_c.append(appendix, inplace = False, resize = True)\n",
    "    \n",
    "template = TimeSeries(template_p.value + 1.0j*template_c.value, times = template_p.times)\n",
    "   \n",
    "template_fig, template_ax = plt.subplots(3, figsize = [15,10])\n",
    "\n",
    "template_ax[0].plot(template_p, label = '+ polarized')\n",
    "template_ax[0].set_ylabel('Strain')\n",
    "template_ax[0].set_xlabel('Time (s)')\n",
    "template_ax[0].legend()\n",
    "\n",
    "template_ax[1].plot(template_c, label = 'x polarized')\n",
    "template_ax[1].set_ylabel('Strain')\n",
    "template_ax[1].set_xlabel('Time (s)')\n",
    "template_ax[1].legend()\n",
    "\n",
    "template_ax[2].plot(abs(template), label = '|strain|')\n",
    "template_ax[2].set_ylabel('Strain')\n",
    "template_ax[2].set_xlabel('Time (s)')\n",
    "template_ax[2].legend()\n",
    "\n",
    "\n",
    "template_fig.show()"
   ]
  },
  {
   "cell_type": "code",
   "execution_count": null,
   "metadata": {},
   "outputs": [],
   "source": [
    "len(template)"
   ]
  },
  {
   "cell_type": "code",
   "execution_count": null,
   "metadata": {},
   "outputs": [],
   "source": [
    "len(appendix)"
   ]
  },
  {
   "cell_type": "code",
   "execution_count": null,
   "metadata": {},
   "outputs": [],
   "source": [
    "data_L1.times"
   ]
  },
  {
   "cell_type": "code",
   "execution_count": null,
   "metadata": {},
   "outputs": [],
   "source": [
    "len(template)"
   ]
  },
  {
   "cell_type": "markdown",
   "metadata": {},
   "source": [
    "## Whitening Data and Templates"
   ]
  },
  {
   "cell_type": "code",
   "execution_count": null,
   "metadata": {},
   "outputs": [],
   "source": [
    "data_L1_white = data_L1.whiten(fftlength = 4, overlap = 2, window = 'hanning', asd = data_L1_asd)\n",
    "fig_data_white, ax_data_white = plt.subplots(2, figsize = [15,10])\n",
    "ax_data_white[0].plot(data_L1)\n",
    "ax_data_white[1].plot(data_L1_white)"
   ]
  },
  {
   "cell_type": "code",
   "execution_count": null,
   "metadata": {},
   "outputs": [],
   "source": [
    "template_p_white = template_p.whiten(fftlength = 4, overlap = 2, window = 'hanning', asd = data_L1_asd)\n",
    "template_c_white = template_c.whiten(fftlength = 4, overlap = 2, window = 'hanning', asd = data_L1_asd)\n",
    "template_white = template.whiten(fftlength = 4, overlap = 2, window = 'hanning', asd = data_L1_asd)\n",
    "\n",
    "fig_template_white, ax_template_white = plt.subplots(2, figsize = [15,10])\n",
    "ax_template_white[0].plot(template_p)\n",
    "ax_template_white[1].plot(template_p_white)"
   ]
  },
  {
   "cell_type": "code",
   "execution_count": null,
   "metadata": {},
   "outputs": [],
   "source": [
    "snr = data_L1_white.correlate(template_white)\n",
    "snr_fig, snr_ax = plt.subplots(3, figsize = [15,10])\n",
    "snr_ax[0].plot(np.real(snr))\n",
    "snr_ax[0].plot([1265202095.991118,1265202095.991118],[-20,20], color = 'red')\n",
    "snr_ax[1].plot(np.imag(snr))\n",
    "snr_ax[1].plot([1265202095.991118,1265202095.991118],[-20,20], color = 'red')\n",
    "snr_ax[2].plot(abs(snr))\n",
    "snr_ax[2].plot([1265202095.991118,1265202095.991118],[-20,20], color = 'red')\n"
   ]
  },
  {
   "cell_type": "code",
   "execution_count": null,
   "metadata": {},
   "outputs": [],
   "source": []
  },
  {
   "cell_type": "code",
   "execution_count": null,
   "metadata": {},
   "outputs": [],
   "source": []
  },
  {
   "cell_type": "code",
   "execution_count": null,
   "metadata": {},
   "outputs": [],
   "source": []
  },
  {
   "cell_type": "code",
   "execution_count": null,
   "metadata": {},
   "outputs": [],
   "source": []
  },
  {
   "cell_type": "code",
   "execution_count": null,
   "metadata": {},
   "outputs": [],
   "source": []
  }
 ],
 "metadata": {
  "kernelspec": {
   "display_name": "Python 3",
   "language": "python",
   "name": "python3"
  },
  "language_info": {
   "codemirror_mode": {
    "name": "ipython",
    "version": 3
   },
   "file_extension": ".py",
   "mimetype": "text/x-python",
   "name": "python",
   "nbconvert_exporter": "python",
   "pygments_lexer": "ipython3",
   "version": "3.7.4"
  }
 },
 "nbformat": 4,
 "nbformat_minor": 4
}
